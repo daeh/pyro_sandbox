{
 "cells": [
  {
   "cell_type": "code",
   "execution_count": null,
   "metadata": {},
   "outputs": [],
   "source": [
    "%matplotlib inline\n",
    "import matplotlib.pyplot as plt\n",
    "import numpy as np\n",
    "import pandas as pd\n",
    "import os\n",
    "\n",
    "import torch\n",
    "torch.set_default_dtype(torch.float64)  # double precision for numerical stability\n",
    "\n",
    "import collections\n",
    "import argparse\n",
    "import matplotlib.pyplot as plt\n",
    "\n",
    "import pyro\n",
    "import pyro.distributions as dist\n",
    "import pyro.poutine as poutine\n",
    "from pyro.optim import Adam\n",
    "from pyro.infer import SVI, Trace_ELBO\n",
    "from torch.distributions import constraints\n",
    "import torch.nn.functional as F\n",
    "from torch.autograd import Variable\n",
    "\n",
    "pyro.enable_validation(True)\n",
    "\n",
    "# defining sigmoid, logistic functions that work on torch tensors\n",
    "def sigmoid(x):\n",
    "    return logistic(x, maxVal=1.0, steepness=1.0, midpoint=0.0)\n",
    "\n",
    "def logistic(x, maxVal=1.0, steepness=1.0, midpoint=0.0):\n",
    "    # https://en.wikipedia.org/wiki/Logistic_function\n",
    "    return torch.tensor(maxVal)/(torch.tensor(1.)+torch.exp(-steepness*(x-midpoint)))\n",
    "\n",
    "myPlotColors = [\"olive\", \"green\", \"gold\", \"darkgrey\", \"red\", \"maroon\", \"darkorchid\", \"midnightblue\"]\n",
    "print(myPlotColors)"
   ]
  }
 ],
 "metadata": {
  "kernelspec": {
   "display_name": "pyro-sandbox",
   "language": "python",
   "name": "pyro-sandbox"
  },
  "language_info": {
   "codemirror_mode": {
    "name": "ipython",
    "version": 3
   },
   "file_extension": ".py",
   "mimetype": "text/x-python",
   "name": "python",
   "nbconvert_exporter": "python",
   "pygments_lexer": "ipython3",
   "version": "3.5.5"
  }
 },
 "nbformat": 4,
 "nbformat_minor": 2
}
